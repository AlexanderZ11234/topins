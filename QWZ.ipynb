{
 "cells": [
  {
   "cell_type": "markdown",
   "metadata": {},
   "source": [
    "# Chern insulators and the QWZ model\n",
    "\n",
    "![kep](./laughlin_v3.png)\n",
    "In this notebook we are going to explore the QWZ model one of the most simple examples of Chern insuators. We will first explore the spectrum of the bulk and infinite periodic strips of this lattice model, than we generate a finite irregularly shaped system to understand the \"potato argument\"."
   ]
  },
  {
   "cell_type": "code",
   "execution_count": 1,
   "metadata": {
    "collapsed": false
   },
   "outputs": [
    {
     "name": "stdout",
     "output_type": "stream",
     "text": [
      "Populating the interactive namespace from numpy and matplotlib\n"
     ]
    }
   ],
   "source": [
    "# the usual imports\n",
    "%pylab inline\n",
    "from ipywidgets import *\n",
    "from mpl_toolkits.mplot3d import *\n",
    "#draw a vector\n",
    "from matplotlib.patches import FancyArrowPatch\n",
    "# We shall need sparse matrices for the real space structure.. \n",
    "# if we want to go for big samples\n",
    "import scipy.sparse as ssp\n",
    "import scipy.sparse.linalg  as sla\n",
    "\n"
   ]
  },
  {
   "cell_type": "markdown",
   "metadata": {},
   "source": [
    "## Bulk spectrum\n"
   ]
  },
  {
   "cell_type": "code",
   "execution_count": 2,
   "metadata": {
    "collapsed": false
   },
   "outputs": [],
   "source": [
    "def QWZbulk(u,ee=13,aa=-30):\n",
    "    '''\n",
    "    Simple function to generate spectrum\n",
    "    '''\n",
    "    xx, yy = meshgrid(linspace(-pi,pi,25),linspace(-pi,pi,25))\n",
    "    z1 = sqrt(sin(xx)**2+sin(yy)**2+(cos(xx)+cos(yy)+(u))**2)\n",
    "    # plot the data.. \n",
    "    ax0=subplot(111, projection='3d')\n",
    "\n",
    "    \n",
    "    props={'linewidth':0,'cmap':'nipy_spectral','antialiased':False,\n",
    "       'rstride':1, 'cstride':1,'vmin':-z1.max(), 'vmax':z1.max()}\n",
    "\n",
    "    ax0.plot_surface(xx,yy,z1,**props)\n",
    "    ax0.plot_surface(xx,yy,-z1,**props)\n",
    "    \n",
    "    # everything belo is only for the look\n",
    "    ax0.view_init(elev=ee, azim=aa)\n",
    "    ax0.set_aspect(4/pi)\n",
    "\n",
    "    ax0.w_xaxis.set_pane_color((1.0, 1.0, 1.0, 1.0))\n",
    "    ax0.w_yaxis.set_pane_color((1.0, 1.0, 1.0, 1.0))\n",
    "    ax0.w_zaxis.set_pane_color((1.0, 1.0, 1.0, 1.0))\n",
    "    ax0.set_zlim3d(-4, 4)\n",
    "    ax0.set_ylim3d(-pi, pi);ax0.set_xlim3d(-pi, pi);\n",
    "    ax0.grid(False)\n",
    "    \n",
    "    lprop={'fontsize':20}\n",
    "    ax0.set_xlabel(r'$k_x$',**lprop);ax0.set_ylabel(r'$k_y$',**lprop)\n",
    "    \n",
    "    ax0.set_xticks(linspace(-pi,pi,3))\n",
    "    ax0.set_xticklabels([r'-$\\pi$',r'$0$',r'$\\pi$'],\n",
    "                    va='baseline',ha='center',**lprop)\n",
    "    ax0.set_yticks(linspace(-pi,pi,3))\n",
    "    ax0.set_yticklabels([r'-$\\pi$',r'$0$',r'$\\pi$'],\n",
    "                    va='baseline',ha='center',**lprop)\n",
    "    ax0.set_zticks(linspace(-4,4,5))\n",
    "    ax0.set_zticklabels([r'$-4$',r'$-2$',r'  $0$',r'  $2$',r'  $4$',],\n",
    "                    va='baseline',ha='left',**lprop)\n",
    "    ax0.text(pi+0.6, pi+0.6, 1,r'$E(\\mathbf{k})$' ,**lprop);"
   ]
  },
  {
   "cell_type": "code",
   "execution_count": 4,
   "metadata": {
    "collapsed": false
   },
   "outputs": [
    {
     "data": {
      "image/png": "[encoded data removed]",
      "text/plain": [
       "<matplotlib.figure.Figure at 0x7ff5963c98d0>"
      ]
     },
     "metadata": {},
     "output_type": "display_data"
    }
   ],
   "source": [
    "QWZbulk(-2)"
   ]
  },
  {
   "cell_type": "markdown",
   "metadata": {},
   "source": [
    "## Ribbons"
   ]
  },
  {
   "cell_type": "code",
   "execution_count": 5,
   "metadata": {
    "collapsed": true
   },
   "outputs": [],
   "source": [
    "#define Pauli matrices;\n",
    "s0=matrix([[1,0],[0,1]])\n",
    "s1=matrix([[0,1],[1,0]])\n",
    "s2=matrix([[0,-1j],[1j,0]])\n",
    "s3=matrix([[1,0],[0,-1]])\n",
    "#Seting up hopping matrices\n",
    "#QWZ (aka. half-BHZ) sofar\n",
    "u=s3;\n",
    "t_x=(s3-1j*s1)/2;\n",
    "t_y=(s3-1j*s2)/2;"
   ]
  },
  {
   "cell_type": "markdown",
   "metadata": {},
   "source": [
    "## Finite sample - the potato argument"
   ]
  },
  {
   "cell_type": "code",
   "execution_count": 6,
   "metadata": {
    "collapsed": true
   },
   "outputs": [],
   "source": [
    "class finite_lattice:\n",
    "    '''\n",
    "    Class for a generic 2D lattice.\n",
    "    '''\n",
    "    def __init__(self,xL=4,yL=3,**kwargs):\n",
    "        '''\n",
    "        Initializatin\n",
    "        '''\n",
    "\n",
    "        self.xL=xL\n",
    "        self.yL=yL\n",
    "        self.xran=arange(xL)\n",
    "        self.yran=arange(yL)\n",
    "        self.ym,self.xm=meshgrid(self.yran,self.xran)\n",
    "        self.y,self.x=(self.ym.flatten(),self.xm.flatten())\n",
    "\n",
    "    def make_ham(self,Tx,Ty,U,**kwargs):\n",
    "        '''\n",
    "        Make Hamiltonian for a square shape\n",
    "        '''\n",
    "        ODX=ssp.diags([ones(self.xL-1)],[1])\n",
    "        DX =ssp.diags([ones(self.xL)],[0])\n",
    "        ODY=ssp.diags([ones(self.yL-1)],[1])\n",
    "        DY =ssp.diags([ones(self.yL)],[0])\n",
    "        # internal degrees of freedom\n",
    "        self.idf=shape(Tx)[0]   \n",
    "        self.H=(ssp.kron(DX,ssp.kron(ODY,Ty))+\n",
    "                ssp.kron(DX,ssp.kron(ODY,Ty)).H +\n",
    "                ssp.kron(ODX,ssp.kron(DY,Tx))+\n",
    "                ssp.kron(ODX,ssp.kron(DY,Tx)).H +\n",
    "                ssp.kron(DX,ssp.kron(DY,U)) )\n",
    "        \n",
    "    def plot_fullwf(self,psi,**kwargs):\n",
    "        '''\n",
    "        Plotter for wavefunctions of the whole lattice.\n",
    "        '''\n",
    "        pcolor(self.xm,self.ym,\n",
    "               reshape(sum(\n",
    "                    reshape(abs(psi)**2,(self.xL*self.yL,self.idf)),\n",
    "                    axis=1),(self.xL,self.yL)\n",
    "                      ),**kwargs)\n",
    "\n",
    "        \n",
    "    def cut_potato(self,potx,poty,inverted=False,**kwargs):\n",
    "        '''\n",
    "        Make Hamiltonian for an arbitrary shape.\n",
    "        We carve out the shape from the rectangle\n",
    "        of the original lattice.\n",
    "        '''\n",
    "        potato=matplotlib.path.Path(array([potx,poty]).T)        \n",
    "        self.potato_cindx=(potato.contains_points(\n",
    "                           array([self.x,self.y]).T))\n",
    "        self.potato_hindx=(potato.contains_points(\n",
    "                           array([kron(self.x,ones(self.idf)),\n",
    "                                  kron(self.y,ones(self.idf))]).T))\n",
    "        if inverted:\n",
    "            self.potato_cindx=logical_not(self.potato_cindx)\n",
    "            self.potato_hindx=logical_not(self.potato_hindx)\n",
    "        self.Hpotato=self.H[:,self.potato_hindx][self.potato_hindx,:]"
   ]
  },
  {
   "cell_type": "code",
   "execution_count": 7,
   "metadata": {
    "collapsed": false
   },
   "outputs": [],
   "source": [
    "QWZ=finite_lattice(xL=160,yL=100)\n",
    "QWZ.make_ham(t_x,t_y,-1.8*u)"
   ]
  },
  {
   "cell_type": "code",
   "execution_count": 8,
   "metadata": {
    "collapsed": false
   },
   "outputs": [],
   "source": [
    "#va,ve=sla.eigsh(QWZ.H,100,sigma=0.02)"
   ]
  },
  {
   "cell_type": "code",
   "execution_count": 9,
   "metadata": {
    "collapsed": false
   },
   "outputs": [],
   "source": [
    "#figsize(10,5)\n",
    "#@interact(i=(0,len(va)-1))\n",
    "#def play(i=0):\n",
    "#    subplot(121)\n",
    "#    plot(arange(len(va)),sort(va),'r+')\n",
    "#    plot(arange(len(va))[i],va[argsort(va)][i],'wo',ms=10)\n",
    "#    subplot(122,aspect='equal')\n",
    "#    QWZ.plot_fullwf(ve[:,argsort(va)[i]],cmap='magma')\n",
    "#    axis('off');"
   ]
  },
  {
   "cell_type": "code",
   "execution_count": 10,
   "metadata": {
    "collapsed": false
   },
   "outputs": [],
   "source": [
    "th=linspace(0,2*pi,100)\n",
    "krx,kry=(60*(cos(th)+0.1*cos(3*th-0.3))+80,40*(sin(th)-0.1*sin(6*th+0.5))+50)\n",
    "QWZ.cut_potato(krx,kry)\n",
    "Vdis=ssp.diags(kron(randn(int(QWZ.Hpotato.shape[0]/QWZ.idf)),ones(QWZ.idf)),0)"
   ]
  },
  {
   "cell_type": "code",
   "execution_count": 11,
   "metadata": {
    "collapsed": false
   },
   "outputs": [],
   "source": [
    "vap,vep=sla.eigsh(QWZ.Hpotato+0.01*Vdis,100,sigma=0.01)\n",
    "vep=vep[:,argsort(vap)]\n",
    "vap=sort(vap)\n",
    "dummy=zeros((QWZ.H.shape[0],len(vap)),dtype=complex)\n",
    "dummy[QWZ.potato_hindx,:]=vep"
   ]
  },
  {
   "cell_type": "code",
   "execution_count": 12,
   "metadata": {
    "collapsed": false
   },
   "outputs": [
    {
     "data": {
      "image/png": "[encoded data removed]",
      "text/plain": [
       "<matplotlib.figure.Figure at 0x7ff5963d10b8>"
      ]
     },
     "metadata": {},
     "output_type": "display_data"
    }
   ],
   "source": [
    "figsize(10,7)\n",
    "@interact(i=(0,len(vap)-1))\n",
    "def play(i=0):\n",
    "    subplot(121,aspect=50)\n",
    "    plot(arange(len(vap)),vap,'r.')\n",
    "    plot(arange(len(vap))[i],vap[i],'wo',ms=10)\n",
    "    ylim(-0.4,0.4)\n",
    "    yticks(linspace(-0.4,0.4,5))\n",
    "    xticks(linspace(0,len(vap),3))\n",
    "    grid()\n",
    "    subplot(122,aspect='equal')\n",
    "    QWZ.plot_fullwf(dummy[:,i],cmap='CMRmap_r')\n",
    "    plot(krx+0.5,kry+0.5,'-',color='darkcyan',lw=2)\n",
    "    axis('off');\n",
    "    tight_layout()"
   ]
  }
 ],
 "metadata": {
  "kernelspec": {
   "display_name": "Python 3",
   "language": "python",
   "name": "python3"
  },
  "language_info": {
   "codemirror_mode": {
    "name": "ipython",
    "version": 3
   },
   "file_extension": ".py",
   "mimetype": "text/x-python",
   "name": "python",
   "nbconvert_exporter": "python",
   "pygments_lexer": "ipython3",
   "version": "3.4.3"
  },
  "latex_envs": {
   "bibliofile": "biblio.bib",
   "cite_by": "apalike",
   "current_citInitial": 1,
   "eqLabelWithNumbers": true,
   "eqNumInitial": 0
  }
 },
 "nbformat": 4,
 "nbformat_minor": 0
}
