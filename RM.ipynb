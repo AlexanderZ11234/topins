{
 "cells": [
  {
   "cell_type": "markdown",
   "metadata": {},
   "source": [
    "# Rice-Mele model and adiabatic pumping\n",
    "\n",
    "In this notebook we explore adiabatic pumping in time dependent one dimensional systems through the Rice-Mele model. The Rice-Mele model is a generalization of the Su-Schrieffer-Heeger model where we allow for generally time dependent hopping parameters and also add an extra time dependent sublattice potenital $u$ that has opposite sign on the two sublattices. "
   ]
  },
  {
   "cell_type": "code",
   "execution_count": 1,
   "metadata": {
    "collapsed": false
   },
   "outputs": [
    {
     "name": "stdout",
     "output_type": "stream",
     "text": [
      "Populating the interactive namespace from numpy and matplotlib\n"
     ]
    }
   ],
   "source": [
    "# The usual imports\n",
    "%pylab inline\n",
    "from ipywidgets import *\n",
    "# Some extra imports for 3D \n",
    "from mpl_toolkits.mplot3d import *\n",
    "from matplotlib.patches import FancyArrowPatch\n",
    "class Arrow3D(FancyArrowPatch):\n",
    "    def __init__(self, xs, ys, zs, *args, **kwargs):\n",
    "        FancyArrowPatch.__init__(self, (0,0), (0,0), *args, **kwargs)\n",
    "        self._verts3d = xs, ys, zs\n",
    "\n",
    "    def draw(self, renderer):\n",
    "        xs3d, ys3d, zs3d = self._verts3d\n",
    "        xs, ys, zs = proj3d.proj_transform(xs3d, ys3d, zs3d, renderer.M)\n",
    "        self.set_positions((xs[0],ys[0]),(xs[1],ys[1]))\n",
    "        FancyArrowPatch.draw(self, renderer)"
   ]
  },
  {
   "cell_type": "markdown",
   "metadata": {},
   "source": [
    "## The control freak sequence\n",
    "\n",
    "Let us first explore a time dependent pump that is for all times $t$ in the dimerized limit, that is either the intracell $v(t)$ or the intercell $w(t)$ hopping is zero. "
   ]
  },
  {
   "cell_type": "code",
   "execution_count": 2,
   "metadata": {
    "collapsed": true
   },
   "outputs": [],
   "source": [
    "def dkt(k,t,uvw):\n",
    "    '''\n",
    "    A simple function that returns the d vector of the RM model\n",
    "    '''\n",
    "    return [uvw(t)[1]+uvw(t)[2]*cos(k),uvw(t)[2]*sin(k),uvw(t)[0]]"
   ]
  },
  {
   "cell_type": "code",
   "execution_count": 3,
   "metadata": {
    "collapsed": true
   },
   "outputs": [],
   "source": [
    "# this generates a parameter mesh in momentum and time\n",
    "kran,tran=meshgrid(linspace(-pi,pi,100),linspace(0,1,100))"
   ]
  },
  {
   "cell_type": "code",
   "execution_count": 4,
   "metadata": {
    "collapsed": false
   },
   "outputs": [],
   "source": [
    "def f(t):\n",
    "    '''\n",
    "    A piecewise function for the control freak sequence\n",
    "    used to define u(t),v(t),w(t)\n",
    "    '''\n",
    "\n",
    "    t=mod(t,1);\n",
    "    \n",
    "    return (\n",
    "        8*t*((t>=0)&(t<1/8))+\\\n",
    "    (0*t+1)*((t>=1/8)&(t<3/8))+\\\n",
    "    (4-8*t)*((t>=3/8)&(t<1/2))+\\\n",
    "        0*t*((t>=1/2)&(t<1))); \n",
    "\n",
    "def uvwCF(t):\n",
    "    '''\n",
    "    u,v and w functions of the control freak sequence\n",
    "    '''\n",
    "    return array([f(t)-f(t-1/2),2*f(t+1/4),f(t-1/4)])"
   ]
  },
  {
   "cell_type": "code",
   "execution_count": null,
   "metadata": {
    "collapsed": false
   },
   "outputs": [],
   "source": [
    "dkt(kran,tran,uvwCF)"
   ]
  },
  {
   "cell_type": "code",
   "execution_count": null,
   "metadata": {
    "collapsed": true
   },
   "outputs": [],
   "source": []
  }
 ],
 "metadata": {
  "kernelspec": {
   "display_name": "Python 3",
   "language": "python",
   "name": "python3"
  },
  "language_info": {
   "codemirror_mode": {
    "name": "ipython",
    "version": 3
   },
   "file_extension": ".py",
   "mimetype": "text/x-python",
   "name": "python",
   "nbconvert_exporter": "python",
   "pygments_lexer": "ipython3",
   "version": "3.4.3"
  },
  "latex_envs": {
   "bibliofile": "biblio.bib",
   "cite_by": "apalike",
   "current_citInitial": 1,
   "eqLabelWithNumbers": true,
   "eqNumInitial": 0
  }
 },
 "nbformat": 4,
 "nbformat_minor": 0
}
